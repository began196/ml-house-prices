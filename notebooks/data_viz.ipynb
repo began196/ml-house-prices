{
 "cells": [
  {
   "cell_type": "code",
   "execution_count": null,
   "metadata": {},
   "outputs": [],
   "source": [
    "# Purpose: \n",
    "# 1. Catch any outliers\n",
    "# 2. Visualize possible relationships for feature engineering"
   ]
  }
 ],
 "metadata": {
  "language_info": {
   "name": "python"
  }
 },
 "nbformat": 4,
 "nbformat_minor": 2
}
